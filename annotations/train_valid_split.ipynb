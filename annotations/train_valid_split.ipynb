{
 "cells": [
  {
   "cell_type": "code",
   "execution_count": 13,
   "id": "e2b56791-128c-4ace-a7b1-f483055df320",
   "metadata": {},
   "outputs": [],
   "source": [
    "import numpy as np\n",
    "import pandas as pd\n",
    "from PIL import Image\n",
    "import random\n",
    "import importlib\n",
    "import ann_utils\n",
    "importlib.reload(ann_utils)\n",
    "import matplotlib.pyplot as plt"
   ]
  },
  {
   "cell_type": "code",
   "execution_count": 3,
   "id": "6ae76f77-0b9e-4d14-877b-dc762bf7914b",
   "metadata": {},
   "outputs": [],
   "source": [
    "## This notebook read annotation file then subset a dataset that contain only 4 classses, each class will have more than 100 annotations and 20 images.\n",
    "#After that, it will split the dataset into train and valid dataset with split ratio 1:9"
   ]
  },
  {
   "cell_type": "code",
   "execution_count": 2,
   "id": "3a667a55-01a0-4934-b833-1d7b5e0e3260",
   "metadata": {},
   "outputs": [],
   "source": [
    "ann_final=pd.read_csv(\"ann_final.csv\")"
   ]
  },
  {
   "cell_type": "code",
   "execution_count": 3,
   "id": "e7aa8613-9cd3-4128-965c-c18ba388540f",
   "metadata": {},
   "outputs": [],
   "source": [
    "ann_final['x_c']=round(0.5*(ann_final['x_min']+ann_final['x_max']))\n",
    "ann_final['y_c']=round(0.5*(ann_final['y_min']+ann_final['y_max']))"
   ]
  },
  {
   "cell_type": "code",
   "execution_count": 4,
   "id": "39eabca3-0ebc-4417-8943-a1498edb3eb1",
   "metadata": {},
   "outputs": [
    {
     "data": {
      "text/html": [
       "<div>\n",
       "<style scoped>\n",
       "    .dataframe tbody tr th:only-of-type {\n",
       "        vertical-align: middle;\n",
       "    }\n",
       "\n",
       "    .dataframe tbody tr th {\n",
       "        vertical-align: top;\n",
       "    }\n",
       "\n",
       "    .dataframe thead th {\n",
       "        text-align: right;\n",
       "    }\n",
       "</style>\n",
       "<table border=\"1\" class=\"dataframe\">\n",
       "  <thead>\n",
       "    <tr style=\"text-align: right;\">\n",
       "      <th></th>\n",
       "      <th>y</th>\n",
       "      <th>height</th>\n",
       "      <th>labelclass_index</th>\n",
       "      <th>x</th>\n",
       "      <th>filename</th>\n",
       "      <th>width</th>\n",
       "      <th>labelclass_name</th>\n",
       "      <th>filepath</th>\n",
       "      <th>Exist</th>\n",
       "      <th>im_width</th>\n",
       "      <th>im_height</th>\n",
       "      <th>x_min</th>\n",
       "      <th>x_max</th>\n",
       "      <th>y_min</th>\n",
       "      <th>y_max</th>\n",
       "      <th>x_c</th>\n",
       "      <th>y_c</th>\n",
       "    </tr>\n",
       "  </thead>\n",
       "  <tbody>\n",
       "    <tr>\n",
       "      <th>0</th>\n",
       "      <td>0.170465</td>\n",
       "      <td>0.010936</td>\n",
       "      <td>1</td>\n",
       "      <td>0.985655</td>\n",
       "      <td>MBALAGETI/MBAL_6/UG_GAME_CAMERAS_MBALAGETI_MBA...</td>\n",
       "      <td>0.006916</td>\n",
       "      <td>Wildebeest</td>\n",
       "      <td>/home/data/cameratraps/MBALAGETI/MBAL_6/UG_GAM...</td>\n",
       "      <td>True</td>\n",
       "      <td>2592</td>\n",
       "      <td>1944</td>\n",
       "      <td>2546.0</td>\n",
       "      <td>2564.0</td>\n",
       "      <td>321.0</td>\n",
       "      <td>342.0</td>\n",
       "      <td>2555.0</td>\n",
       "      <td>332.0</td>\n",
       "    </tr>\n",
       "    <tr>\n",
       "      <th>1</th>\n",
       "      <td>0.228536</td>\n",
       "      <td>0.020074</td>\n",
       "      <td>1</td>\n",
       "      <td>0.458230</td>\n",
       "      <td>MBALAGETI/MBAL_6/UG_GAME_CAMERAS_MBALAGETI_MBA...</td>\n",
       "      <td>0.021680</td>\n",
       "      <td>Wildebeest</td>\n",
       "      <td>/home/data/cameratraps/MBALAGETI/MBAL_6/UG_GAM...</td>\n",
       "      <td>True</td>\n",
       "      <td>2592</td>\n",
       "      <td>1944</td>\n",
       "      <td>1160.0</td>\n",
       "      <td>1216.0</td>\n",
       "      <td>425.0</td>\n",
       "      <td>464.0</td>\n",
       "      <td>1188.0</td>\n",
       "      <td>444.0</td>\n",
       "    </tr>\n",
       "    <tr>\n",
       "      <th>2</th>\n",
       "      <td>0.224561</td>\n",
       "      <td>0.024392</td>\n",
       "      <td>1</td>\n",
       "      <td>0.733883</td>\n",
       "      <td>MBALAGETI/MBAL_6/UG_GAME_CAMERAS_MBALAGETI_MBA...</td>\n",
       "      <td>0.009800</td>\n",
       "      <td>Wildebeest</td>\n",
       "      <td>/home/data/cameratraps/MBALAGETI/MBAL_6/UG_GAM...</td>\n",
       "      <td>True</td>\n",
       "      <td>2592</td>\n",
       "      <td>1944</td>\n",
       "      <td>1890.0</td>\n",
       "      <td>1915.0</td>\n",
       "      <td>413.0</td>\n",
       "      <td>460.0</td>\n",
       "      <td>1902.0</td>\n",
       "      <td>436.0</td>\n",
       "    </tr>\n",
       "  </tbody>\n",
       "</table>\n",
       "</div>"
      ],
      "text/plain": [
       "          y    height  labelclass_index         x  \\\n",
       "0  0.170465  0.010936                 1  0.985655   \n",
       "1  0.228536  0.020074                 1  0.458230   \n",
       "2  0.224561  0.024392                 1  0.733883   \n",
       "\n",
       "                                            filename     width  \\\n",
       "0  MBALAGETI/MBAL_6/UG_GAME_CAMERAS_MBALAGETI_MBA...  0.006916   \n",
       "1  MBALAGETI/MBAL_6/UG_GAME_CAMERAS_MBALAGETI_MBA...  0.021680   \n",
       "2  MBALAGETI/MBAL_6/UG_GAME_CAMERAS_MBALAGETI_MBA...  0.009800   \n",
       "\n",
       "  labelclass_name                                           filepath  Exist  \\\n",
       "0      Wildebeest  /home/data/cameratraps/MBALAGETI/MBAL_6/UG_GAM...   True   \n",
       "1      Wildebeest  /home/data/cameratraps/MBALAGETI/MBAL_6/UG_GAM...   True   \n",
       "2      Wildebeest  /home/data/cameratraps/MBALAGETI/MBAL_6/UG_GAM...   True   \n",
       "\n",
       "   im_width  im_height   x_min   x_max  y_min  y_max     x_c    y_c  \n",
       "0      2592       1944  2546.0  2564.0  321.0  342.0  2555.0  332.0  \n",
       "1      2592       1944  1160.0  1216.0  425.0  464.0  1188.0  444.0  \n",
       "2      2592       1944  1890.0  1915.0  413.0  460.0  1902.0  436.0  "
      ]
     },
     "execution_count": 4,
     "metadata": {},
     "output_type": "execute_result"
    }
   ],
   "source": [
    "ann_final.head(3)"
   ]
  },
  {
   "cell_type": "code",
   "execution_count": 5,
   "id": "3e7d9fed-65e5-4003-92de-d3f11beeb3f7",
   "metadata": {},
   "outputs": [
    {
     "name": "stdout",
     "output_type": "stream",
     "text": [
      "['Baboon', 'Buffalo', 'Cattle', 'Eland', 'Elephant', 'Giraffe', 'Grants Gazelle', 'Hartebeest', 'Impala', 'Other', 'Thomsons Gazelle', 'Topi', 'Warthog', 'Wildebeest', 'Zebra']\n"
     ]
    }
   ],
   "source": [
    "#list of labels with more than 100 annotations and more than 20 images\n",
    "labels=[]\n",
    "for label in np.unique(ann_final['labelclass_name']):\n",
    "    df1=ann_final[ann_final['labelclass_name']==label]\n",
    "    if (df1.shape[0] >100) and (len(np.unique(df1['filepath']))>20):\n",
    "        labels.append(label)\n",
    "print(labels)"
   ]
  },
  {
   "cell_type": "code",
   "execution_count": 7,
   "id": "818fc6d9-f10a-4d10-b0e9-0c2ff0e10deb",
   "metadata": {},
   "outputs": [],
   "source": [
    "#Pick up for labels for dissertation: \n",
    "label_imbalance=[\"Elephant\",\"Giraffe\",\"Grants Gazelle\",\"Wildebeest\"]\n",
    "ann_imbalance=ann_final[ann_final['labelclass_name'].isin(label_imbalance)]"
   ]
  },
  {
   "cell_type": "code",
   "execution_count": 14,
   "id": "ba5a7613-b75f-4f9b-8e75-1be47852d727",
   "metadata": {},
   "outputs": [
    {
     "data": {
      "text/html": [
       "<div>\n",
       "<style scoped>\n",
       "    .dataframe tbody tr th:only-of-type {\n",
       "        vertical-align: middle;\n",
       "    }\n",
       "\n",
       "    .dataframe tbody tr th {\n",
       "        vertical-align: top;\n",
       "    }\n",
       "\n",
       "    .dataframe thead th {\n",
       "        text-align: right;\n",
       "    }\n",
       "</style>\n",
       "<table border=\"1\" class=\"dataframe\">\n",
       "  <thead>\n",
       "    <tr style=\"text-align: right;\">\n",
       "      <th></th>\n",
       "      <th>Label</th>\n",
       "      <th>No of annotations</th>\n",
       "    </tr>\n",
       "  </thead>\n",
       "  <tbody>\n",
       "    <tr>\n",
       "      <th>0</th>\n",
       "      <td>Elephant</td>\n",
       "      <td>288</td>\n",
       "    </tr>\n",
       "    <tr>\n",
       "      <th>1</th>\n",
       "      <td>Giraffe</td>\n",
       "      <td>124</td>\n",
       "    </tr>\n",
       "    <tr>\n",
       "      <th>2</th>\n",
       "      <td>Grants Gazelle</td>\n",
       "      <td>246</td>\n",
       "    </tr>\n",
       "    <tr>\n",
       "      <th>3</th>\n",
       "      <td>Wildebeest</td>\n",
       "      <td>35023</td>\n",
       "    </tr>\n",
       "  </tbody>\n",
       "</table>\n",
       "</div>"
      ],
      "text/plain": [
       "            Label  No of annotations\n",
       "0        Elephant                288\n",
       "1         Giraffe                124\n",
       "2  Grants Gazelle                246\n",
       "3      Wildebeest              35023"
      ]
     },
     "execution_count": 14,
     "metadata": {},
     "output_type": "execute_result"
    }
   ],
   "source": [
    "#count number of annotations for each class\n",
    "label_count=ann_utils.count_label(ann_imbalance)\n",
    "label_count"
   ]
  },
  {
   "cell_type": "code",
   "execution_count": 15,
   "id": "51c351a2-a5d8-483d-b7d3-c71bf9e477fc",
   "metadata": {},
   "outputs": [
    {
     "data": {
      "text/html": [
       "<div>\n",
       "<style scoped>\n",
       "    .dataframe tbody tr th:only-of-type {\n",
       "        vertical-align: middle;\n",
       "    }\n",
       "\n",
       "    .dataframe tbody tr th {\n",
       "        vertical-align: top;\n",
       "    }\n",
       "\n",
       "    .dataframe thead th {\n",
       "        text-align: right;\n",
       "    }\n",
       "</style>\n",
       "<table border=\"1\" class=\"dataframe\">\n",
       "  <thead>\n",
       "    <tr style=\"text-align: right;\">\n",
       "      <th></th>\n",
       "      <th>Label</th>\n",
       "      <th>No of Images</th>\n",
       "    </tr>\n",
       "  </thead>\n",
       "  <tbody>\n",
       "    <tr>\n",
       "      <th>0</th>\n",
       "      <td>Elephant</td>\n",
       "      <td>117</td>\n",
       "    </tr>\n",
       "    <tr>\n",
       "      <th>1</th>\n",
       "      <td>Giraffe</td>\n",
       "      <td>90</td>\n",
       "    </tr>\n",
       "    <tr>\n",
       "      <th>2</th>\n",
       "      <td>Grants Gazelle</td>\n",
       "      <td>106</td>\n",
       "    </tr>\n",
       "    <tr>\n",
       "      <th>3</th>\n",
       "      <td>Wildebeest</td>\n",
       "      <td>3883</td>\n",
       "    </tr>\n",
       "  </tbody>\n",
       "</table>\n",
       "</div>"
      ],
      "text/plain": [
       "            Label  No of Images\n",
       "0        Elephant           117\n",
       "1         Giraffe            90\n",
       "2  Grants Gazelle           106\n",
       "3      Wildebeest          3883"
      ]
     },
     "execution_count": 15,
     "metadata": {},
     "output_type": "execute_result"
    }
   ],
   "source": [
    "#count number of images for each class\n",
    "img_count=ann_utils.count_img(ann_imbalance)\n",
    "img_count"
   ]
  },
  {
   "cell_type": "code",
   "execution_count": 87,
   "id": "68ed9ab1-9f4a-4735-ad85-fb140378be45",
   "metadata": {},
   "outputs": [
    {
     "data": {
      "text/plain": [
       "4186"
      ]
     },
     "execution_count": 87,
     "metadata": {},
     "output_type": "execute_result"
    }
   ],
   "source": [
    "#number of images per class\n",
    "len(np.unique(ann_imbalance['filepath']))"
   ]
  },
  {
   "cell_type": "code",
   "execution_count": 67,
   "id": "7a88db1d-69fe-4996-a8c8-535167c03d91",
   "metadata": {},
   "outputs": [
    {
     "data": {
      "image/png": "[encoded data removed]",
      "text/plain": [
       "<Figure size 1008x576 with 2 Axes>"
      ]
     },
     "metadata": {
      "needs_background": "light"
     },
     "output_type": "display_data"
    }
   ],
   "source": [
    "fig,ax=plt.subplots(nrows=1,ncols=2,figsize=(14,8))\n",
    "ax[0].bar(label_count['Label'],label_count['No of annotations'])\n",
    "ax[0].set_title(\"Number of annotations per Label\")\n",
    "for i in range(4):\n",
    "    ax[0].text(i,label_count['No of annotations'][i]+120,label_count['No of annotations'][i],ha='center')\n",
    "\n",
    "ax[1].bar(img_count['Label'],img_count['No of Images'])\n",
    "ax[1].set_title(\"Number of images per Label\")\n",
    "\n",
    "for i in range(4):\n",
    "    ax[1].text(i,img_count['No of Images'][i]+20,img_count['No of Images'][i],ha='center')"
   ]
  },
  {
   "cell_type": "code",
   "execution_count": 56,
   "id": "ca7a92ef-5263-4e01-b9d4-ac58329f85d5",
   "metadata": {},
   "outputs": [
    {
     "data": {
      "text/plain": [
       "labelclass_name\n",
       "Elephant            30\n",
       "Giraffe             17\n",
       "Grants Gazelle      19\n",
       "Wildebeest        3622\n",
       "Name: labelclass_name, dtype: int64"
      ]
     },
     "execution_count": 56,
     "metadata": {},
     "output_type": "execute_result"
    }
   ],
   "source": [
    "#split train and valid\n",
    "im_list=list(np.unique(ann_imbalance['filepath']))\n",
    "val_no=int(0.1*len(im_list))\n",
    "random.seed(100)\n",
    "train_list=random.sample(im_list,val_no)\n",
    "\n",
    "imbalance_train=ann_imbalance[ann_imbalance['filepath'].isin(train_list)]\n",
    "imbalance_valid=ann_imbalance[~ann_imbalance['filepath'].isin(train_list)]\n",
    "imbalance_train.groupby('labelclass_name')['labelclass_name'].count()"
   ]
  },
  {
   "cell_type": "code",
   "execution_count": 57,
   "id": "73754cc2-cbb8-4cb2-a6c4-7fb646ee0b2e",
   "metadata": {},
   "outputs": [
    {
     "data": {
      "text/html": [
       "<div>\n",
       "<style scoped>\n",
       "    .dataframe tbody tr th:only-of-type {\n",
       "        vertical-align: middle;\n",
       "    }\n",
       "\n",
       "    .dataframe tbody tr th {\n",
       "        vertical-align: top;\n",
       "    }\n",
       "\n",
       "    .dataframe thead th {\n",
       "        text-align: right;\n",
       "    }\n",
       "</style>\n",
       "<table border=\"1\" class=\"dataframe\">\n",
       "  <thead>\n",
       "    <tr style=\"text-align: right;\">\n",
       "      <th></th>\n",
       "      <th>Label</th>\n",
       "      <th>No of Images</th>\n",
       "    </tr>\n",
       "  </thead>\n",
       "  <tbody>\n",
       "    <tr>\n",
       "      <th>0</th>\n",
       "      <td>Elephant</td>\n",
       "      <td>10</td>\n",
       "    </tr>\n",
       "    <tr>\n",
       "      <th>1</th>\n",
       "      <td>Giraffe</td>\n",
       "      <td>10</td>\n",
       "    </tr>\n",
       "    <tr>\n",
       "      <th>2</th>\n",
       "      <td>Grants Gazelle</td>\n",
       "      <td>9</td>\n",
       "    </tr>\n",
       "    <tr>\n",
       "      <th>3</th>\n",
       "      <td>Wildebeest</td>\n",
       "      <td>389</td>\n",
       "    </tr>\n",
       "  </tbody>\n",
       "</table>\n",
       "</div>"
      ],
      "text/plain": [
       "            Label  No of Images\n",
       "0        Elephant            10\n",
       "1         Giraffe            10\n",
       "2  Grants Gazelle             9\n",
       "3      Wildebeest           389"
      ]
     },
     "execution_count": 57,
     "metadata": {},
     "output_type": "execute_result"
    }
   ],
   "source": [
    "#number of images per class\n",
    "train_im_count=ann_utils.count_img(imbalance_train)\n",
    "train_im_count"
   ]
  },
  {
   "cell_type": "code",
   "execution_count": 68,
   "id": "415ae90d-3f7f-4462-9899-b63b398d791f",
   "metadata": {},
   "outputs": [
    {
     "data": {
      "text/html": [
       "<div>\n",
       "<style scoped>\n",
       "    .dataframe tbody tr th:only-of-type {\n",
       "        vertical-align: middle;\n",
       "    }\n",
       "\n",
       "    .dataframe tbody tr th {\n",
       "        vertical-align: top;\n",
       "    }\n",
       "\n",
       "    .dataframe thead th {\n",
       "        text-align: right;\n",
       "    }\n",
       "</style>\n",
       "<table border=\"1\" class=\"dataframe\">\n",
       "  <thead>\n",
       "    <tr style=\"text-align: right;\">\n",
       "      <th></th>\n",
       "      <th>Label</th>\n",
       "      <th>No of annotations</th>\n",
       "    </tr>\n",
       "  </thead>\n",
       "  <tbody>\n",
       "    <tr>\n",
       "      <th>0</th>\n",
       "      <td>Elephant</td>\n",
       "      <td>30</td>\n",
       "    </tr>\n",
       "    <tr>\n",
       "      <th>1</th>\n",
       "      <td>Giraffe</td>\n",
       "      <td>17</td>\n",
       "    </tr>\n",
       "    <tr>\n",
       "      <th>2</th>\n",
       "      <td>Grants Gazelle</td>\n",
       "      <td>19</td>\n",
       "    </tr>\n",
       "    <tr>\n",
       "      <th>3</th>\n",
       "      <td>Wildebeest</td>\n",
       "      <td>3622</td>\n",
       "    </tr>\n",
       "  </tbody>\n",
       "</table>\n",
       "</div>"
      ],
      "text/plain": [
       "            Label  No of annotations\n",
       "0        Elephant                 30\n",
       "1         Giraffe                 17\n",
       "2  Grants Gazelle                 19\n",
       "3      Wildebeest               3622"
      ]
     },
     "execution_count": 68,
     "metadata": {},
     "output_type": "execute_result"
    }
   ],
   "source": [
    "#number of annotations per class\n",
    "train_label_count=ann_utils.count_label(imbalance_train)\n",
    "train_label_count"
   ]
  },
  {
   "cell_type": "code",
   "execution_count": 65,
   "id": "d760bc6c-b09f-450d-8a05-18b7bc44ef94",
   "metadata": {},
   "outputs": [
    {
     "data": {
      "image/png": "[encoded data removed]",
      "text/plain": [
       "<Figure size 1008x576 with 2 Axes>"
      ]
     },
     "metadata": {
      "needs_background": "light"
     },
     "output_type": "display_data"
    }
   ],
   "source": [
    "fig,ax=plt.subplots(nrows=1,ncols=2,figsize=(14,8))\n",
    "ax[0].bar(train_label_count['Label'],train_label_count['No of annotations'])\n",
    "ax[0].set_title(\"Number of annotations per Label in training set\")\n",
    "for i in range(4):\n",
    "    ax[0].text(i,train_label_count['No of annotations'][i]+20,train_label_count['No of annotations'][i],ha='center')\n",
    "\n",
    "ax[1].bar(train_im_count['Label'],train_im_count['No of Images'])\n",
    "ax[1].set_title(\"Number of images per Label in training set\")\n",
    "\n",
    "for i in range(4):\n",
    "    ax[1].text(i,train_im_count['No of Images'][i]+2,train_im_count['No of Images'][i],ha='center')"
   ]
  },
  {
   "cell_type": "code",
   "execution_count": 110,
   "id": "03aa439b-a7b1-4011-bbea-f548af3eaccf",
   "metadata": {},
   "outputs": [],
   "source": [
    "imbalance_train.to_csv(\"imbalance_train.csv\",index=False)\n",
    "imbalance_valid.to_csv(\"imbalance_valid.csv\",index=False)"
   ]
  },
  {
   "cell_type": "code",
   "execution_count": 111,
   "id": "9c201c01-576f-45f0-939b-6d0fe333a3cd",
   "metadata": {},
   "outputs": [],
   "source": [
    "!cp '/home/jovyan/lost+found/annotations/imbalance_train.csv' '/home/jovyan/lost+found/yolo3/train/imbalance_train.csv'\n",
    "!cp '/home/jovyan/lost+found/annotations/imbalance_valid.csv' '/home/jovyan/lost+found/yolo3/valid/imbalance_valid.csv'"
   ]
  }
 ],
 "metadata": {
  "kernelspec": {
   "display_name": "Python 3 (ipykernel)",
   "language": "python",
   "name": "python3"
  },
  "language_info": {
   "codemirror_mode": {
    "name": "ipython",
    "version": 3
   },
   "file_extension": ".py",
   "mimetype": "text/x-python",
   "name": "python",
   "nbconvert_exporter": "python",
   "pygments_lexer": "ipython3",
   "version": "3.9.7"
  }
 },
 "nbformat": 4,
 "nbformat_minor": 5
}
