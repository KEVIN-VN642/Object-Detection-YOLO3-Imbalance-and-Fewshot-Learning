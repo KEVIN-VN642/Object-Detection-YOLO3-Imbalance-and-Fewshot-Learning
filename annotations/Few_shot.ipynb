{
 "cells": [
  {
   "cell_type": "code",
   "execution_count": 1,
   "id": "08a12df8-1966-421f-ae1a-3e9bb1004f49",
   "metadata": {},
   "outputs": [],
   "source": [
    "import pandas as pd\n",
    "import numpy as np\n",
    "from PIL import Image\n",
    "import matplotlib.pyplot as plt"
   ]
  },
  {
   "cell_type": "markdown",
   "id": "b133f24b-d412-422a-88d6-79a84345964c",
   "metadata": {},
   "source": [
    "####  This notebook create train and valid dataset for each test case: no_augmentation, crop, crop and scale. It inherits corresponding dataset generated from imbalance, we just simply remove label 'wildebeest' and keep remaining labels"
   ]
  },
  {
   "cell_type": "code",
   "execution_count": 2,
   "id": "b4f67552-bb88-46d0-9230-02cde505a174",
   "metadata": {},
   "outputs": [],
   "source": [
    "imbalance_train=pd.read_csv(\"imbalance_train.csv\")\n",
    "imbalance_valid=pd.read_csv(\"imbalance_valid.csv\")"
   ]
  },
  {
   "cell_type": "code",
   "execution_count": 3,
   "id": "ee930111-cdec-4a27-b8e1-927bc135219f",
   "metadata": {},
   "outputs": [
    {
     "data": {
      "text/plain": [
       "(3688, 17)"
      ]
     },
     "execution_count": 3,
     "metadata": {},
     "output_type": "execute_result"
    }
   ],
   "source": [
    "imbalance_train.shape"
   ]
  },
  {
   "cell_type": "code",
   "execution_count": 4,
   "id": "47bdfa88-f582-452b-b347-87f738afee81",
   "metadata": {},
   "outputs": [],
   "source": [
    "labels=[\"Giraffe\",\"Elephant\", \"Grants Gazelle\"]"
   ]
  },
  {
   "cell_type": "code",
   "execution_count": 5,
   "id": "2262e889-4a68-4d03-8001-1e3898115841",
   "metadata": {},
   "outputs": [],
   "source": [
    "fewshot_train=imbalance_train[imbalance_train['labelclass_name'].isin(labels)]"
   ]
  },
  {
   "cell_type": "code",
   "execution_count": 6,
   "id": "a2b9dda6-c8d3-44ea-8c96-841218142e4d",
   "metadata": {},
   "outputs": [
    {
     "data": {
      "text/plain": [
       "29"
      ]
     },
     "execution_count": 6,
     "metadata": {},
     "output_type": "execute_result"
    }
   ],
   "source": [
    "len(np.unique(fewshot_train['filepath']))"
   ]
  },
  {
   "cell_type": "code",
   "execution_count": 7,
   "id": "babd29b8-ad47-4350-a353-dd66c8822b1d",
   "metadata": {},
   "outputs": [
    {
     "data": {
      "text/plain": [
       "(66, 17)"
      ]
     },
     "execution_count": 7,
     "metadata": {},
     "output_type": "execute_result"
    }
   ],
   "source": [
    "fewshot_train.shape"
   ]
  },
  {
   "cell_type": "code",
   "execution_count": 8,
   "id": "16e19a4b-a049-43b2-81e2-fd2472eda526",
   "metadata": {},
   "outputs": [
    {
     "data": {
      "text/plain": [
       "labelclass_name\n",
       "Elephant          30\n",
       "Giraffe           17\n",
       "Grants Gazelle    19\n",
       "Name: labelclass_name, dtype: int64"
      ]
     },
     "execution_count": 8,
     "metadata": {},
     "output_type": "execute_result"
    }
   ],
   "source": [
    "fewshot_train.groupby('labelclass_name')['labelclass_name'].count()"
   ]
  },
  {
   "cell_type": "code",
   "execution_count": 12,
   "id": "438856e6-824f-46f6-b473-d905f287bd17",
   "metadata": {},
   "outputs": [],
   "source": [
    "fewshot_train.to_csv(\"fewshot_train.csv\",index=False)"
   ]
  },
  {
   "cell_type": "code",
   "execution_count": 13,
   "id": "700933bf-9bbc-4d97-acff-fbb50c9b67d5",
   "metadata": {},
   "outputs": [],
   "source": [
    "fewshot_valid=imbalance_valid[imbalance_valid['labelclass_name'].isin(labels)]"
   ]
  },
  {
   "cell_type": "code",
   "execution_count": 14,
   "id": "252bc88a-dabd-4046-94e5-74b9198c77ba",
   "metadata": {},
   "outputs": [
    {
     "data": {
      "text/plain": [
       "(592, 17)"
      ]
     },
     "execution_count": 14,
     "metadata": {},
     "output_type": "execute_result"
    }
   ],
   "source": [
    "fewshot_valid.shape"
   ]
  },
  {
   "cell_type": "code",
   "execution_count": 15,
   "id": "63761cf3-1e9d-4d01-9f9a-b7994f9a2848",
   "metadata": {},
   "outputs": [
    {
     "data": {
      "text/plain": [
       "284"
      ]
     },
     "execution_count": 15,
     "metadata": {},
     "output_type": "execute_result"
    }
   ],
   "source": [
    "len(np.unique(fewshot_valid['filepath']))"
   ]
  },
  {
   "cell_type": "code",
   "execution_count": 17,
   "id": "e60bbbdb-73be-41a3-9740-cb77392c45c8",
   "metadata": {},
   "outputs": [],
   "source": [
    "fewshot_valid.to_csv(\"fewshot_valid.csv\",index=False)"
   ]
  },
  {
   "cell_type": "code",
   "execution_count": 19,
   "id": "8a258071-69ae-4031-a1f5-804851c438e0",
   "metadata": {},
   "outputs": [
    {
     "data": {
      "text/plain": [
       "(658, 17)"
      ]
     },
     "execution_count": 19,
     "metadata": {},
     "output_type": "execute_result"
    }
   ],
   "source": [
    "fewshot_project.shape"
   ]
  },
  {
   "cell_type": "code",
   "execution_count": 29,
   "id": "4c43adf4-f576-467b-bf56-3d95caa9029c",
   "metadata": {},
   "outputs": [],
   "source": [
    "!cp '/home/jovyan/lost+found/annotations/fewshot_train.csv' '/home/jovyan/lost+found/yolo3/train/fewshot_train.csv'\n",
    "!cp '/home/jovyan/lost+found/annotations/fewshot_valid.csv' '/home/jovyan/lost+found/yolo3/valid/fewshot_valid.csv'"
   ]
  },
  {
   "cell_type": "code",
   "execution_count": 4,
   "id": "369e2912-673a-412a-b739-4b0ce2b64203",
   "metadata": {},
   "outputs": [],
   "source": [
    "fewshot_crop=pd.read_csv(\"imbalance_crop.csv\")\n",
    "fewshot_crop=fewshot_crop[fewshot_crop['labelclass_name'].isin(labels)]"
   ]
  },
  {
   "cell_type": "code",
   "execution_count": 5,
   "id": "0703a8f3-5143-4419-9592-9f67bde28d9f",
   "metadata": {},
   "outputs": [
    {
     "data": {
      "text/plain": [
       "(2165, 17)"
      ]
     },
     "execution_count": 5,
     "metadata": {},
     "output_type": "execute_result"
    }
   ],
   "source": [
    "fewshot_crop.shape"
   ]
  },
  {
   "cell_type": "code",
   "execution_count": 6,
   "id": "d71bee74-bcad-4fa1-8b6d-9831d2587d56",
   "metadata": {},
   "outputs": [],
   "source": [
    "fewshot_crop.to_csv(\"fewshot_crop.csv\",index=False)"
   ]
  },
  {
   "cell_type": "code",
   "execution_count": 7,
   "id": "149ed9bf-449c-46ac-9d55-16fd93e97b1c",
   "metadata": {},
   "outputs": [],
   "source": [
    "!cp '/home/jovyan/lost+found/annotations/fewshot_crop.csv' '/home/jovyan/lost+found/yolo3/train/fewshot_crop.csv'"
   ]
  }
 ],
 "metadata": {
  "kernelspec": {
   "display_name": "Python 3 (ipykernel)",
   "language": "python",
   "name": "python3"
  },
  "language_info": {
   "codemirror_mode": {
    "name": "ipython",
    "version": 3
   },
   "file_extension": ".py",
   "mimetype": "text/x-python",
   "name": "python",
   "nbconvert_exporter": "python",
   "pygments_lexer": "ipython3",
   "version": "3.9.7"
  }
 },
 "nbformat": 4,
 "nbformat_minor": 5
}
