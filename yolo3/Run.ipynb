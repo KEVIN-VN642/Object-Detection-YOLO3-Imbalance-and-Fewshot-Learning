{
 "cells": [
  {
   "cell_type": "code",
   "execution_count": null,
   "id": "422fc285-1415-45f0-a8b9-3e242907b1d1",
   "metadata": {},
   "outputs": [],
   "source": [
    "!python train.py -c Fewshot_crop.json"
   ]
  },
  {
   "cell_type": "code",
   "execution_count": null,
   "id": "607246ed-ffe7-41fb-aad2-47cbcb7dfe3d",
   "metadata": {},
   "outputs": [],
   "source": [
    "!python evaluate.py -c Fewshot_crop.json"
   ]
  },
  {
   "cell_type": "code",
   "execution_count": null,
   "id": "5bf1498b-85b3-4aba-a62c-fc3d6cdaf476",
   "metadata": {},
   "outputs": [],
   "source": [
    "!python gen_anchors.py -c Fewshot_crop.json"
   ]
  }
 ],
 "metadata": {
  "kernelspec": {
   "display_name": "Python 3 (ipykernel)",
   "language": "python",
   "name": "python3"
  },
  "language_info": {
   "codemirror_mode": {
    "name": "ipython",
    "version": 3
   },
   "file_extension": ".py",
   "mimetype": "text/x-python",
   "name": "python",
   "nbconvert_exporter": "python",
   "pygments_lexer": "ipython3",
   "version": "3.9.7"
  }
 },
 "nbformat": 4,
 "nbformat_minor": 5
}
